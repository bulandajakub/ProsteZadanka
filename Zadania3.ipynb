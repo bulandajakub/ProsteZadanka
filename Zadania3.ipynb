{
 "cells": [
  {
   "cell_type": "markdown",
   "id": "575a1a89",
   "metadata": {},
   "source": [
    "# Zadanie 1\n",
    "\n",
    "Napisz skrypt, który stworzy plik `dane.txt` zawierający w każdym wierszu parę losowych liczba całkowitych (liczba wierszy 100)\n",
    "\n",
    "np.\n",
    "```txt\n",
    "3,19\n",
    "8,11\n",
    "3,100\n",
    "....\n",
    "```\n"
   ]
  },
  {
   "cell_type": "code",
   "execution_count": null,
   "id": "8db59c57",
   "metadata": {},
   "outputs": [],
   "source": [
    "# Tutaj rozwiązanie"
   ]
  },
  {
   "cell_type": "markdown",
   "id": "4d10f021",
   "metadata": {},
   "source": [
    "# Zadanie 2 \n",
    "\n",
    "Napisz skrypt, który odczyta zawartość pliku `dane.txt` oraz policzy dla pierwsze elementu z pary minimalna wartość, a dla drugiego elementu z pary maksymalną wartość i wypisze na ekranie."
   ]
  },
  {
   "cell_type": "code",
   "execution_count": 1,
   "id": "12ef0ac1",
   "metadata": {},
   "outputs": [],
   "source": [
    "# Tutaj rozwiązanie"
   ]
  },
  {
   "cell_type": "markdown",
   "id": "13c11f1e",
   "metadata": {},
   "source": [
    "# Zadanie 3\n",
    "Napisz skrypt, który odczyta zawartość pliku `dane.txt` i zwróci parę liczb, których różnica jest największa."
   ]
  },
  {
   "cell_type": "code",
   "execution_count": 3,
   "id": "05d04779",
   "metadata": {},
   "outputs": [],
   "source": [
    "# Tutaj rozwiązanie"
   ]
  },
  {
   "cell_type": "markdown",
   "id": "3ef97b8b",
   "metadata": {},
   "source": [
    "# Zadanie 4\n",
    "Napisz skrypt, który odczyta zawartość pliku `dane.txt`, a następnie każdy pierwszy element z pary zapisze do pliku `pierwszy.txt`, a drugi element z party do pliku `drugi.txt`"
   ]
  },
  {
   "cell_type": "code",
   "execution_count": null,
   "id": "a6d2b019",
   "metadata": {},
   "outputs": [],
   "source": []
  }
 ],
 "metadata": {
  "kernelspec": {
   "display_name": "Python 3",
   "language": "python",
   "name": "python3"
  },
  "language_info": {
   "codemirror_mode": {
    "name": "ipython",
    "version": 3
   },
   "file_extension": ".py",
   "mimetype": "text/x-python",
   "name": "python",
   "nbconvert_exporter": "python",
   "pygments_lexer": "ipython3",
   "version": "3.8.8"
  }
 },
 "nbformat": 4,
 "nbformat_minor": 5
}
