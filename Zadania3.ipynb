{
 "cells": [
  {
   "cell_type": "markdown",
   "id": "575a1a89",
   "metadata": {},
   "source": [
    "# Zadanie 1\n",
    "\n",
    "Napisz skrypt, który stworzy plik `dane.txt` zawierający w każdym wierszu parę losowych liczba całkowitych (liczba wierszy 100)\n",
    "\n",
    "np.\n",
    "```txt\n",
    "3,19\n",
    "8,11\n",
    "3,100\n",
    "....\n",
    "```\n"
   ]
  },
  {
   "cell_type": "code",
   "execution_count": null,
   "id": "8db59c57",
   "metadata": {},
   "outputs": [],
   "source": [
    "# Tutaj rozwiązanie"
   ]
  },
  {
   "cell_type": "markdown",
   "id": "4d10f021",
   "metadata": {},
   "source": [
    "# Zadanie 2 \n",
    "\n",
    "Napisz skrypt, który odczyta zawartość pliku `dane.txt` oraz policzy dla pierwsze elementu z pary minimalna wartość, a dla drugiego elementu z pary maksymalną wartość i wypisze na ekranie."
   ]
  },
  {
   "cell_type": "code",
   "execution_count": 1,
   "id": "12ef0ac1",
   "metadata": {},
   "outputs": [],
   "source": [
    "# Tutaj rozwiązanie"
   ]
  },
  {
   "cell_type": "markdown",
   "id": "13c11f1e",
   "metadata": {},
   "source": [
    "# Zadanie 3\n",
    "Napisz skrypt, który odczyta zawartość pliku `dane.txt` i zwróci parę liczb, których różnica jest największa."
   ]
  },
  {
   "cell_type": "code",
   "execution_count": 3,
   "id": "05d04779",
   "metadata": {},
   "outputs": [],
   "source": [
    "# Tutaj rozwiązanie"
   ]
  },
  {
   "cell_type": "markdown",
   "id": "3ef97b8b",
   "metadata": {},
   "source": [
    "# Zadanie 4\n",
    "Napisz skrypt, który odczyta zawartość pliku `dane.txt`, a następnie każdy pierwszy element z pary zapisze do pliku `pierwszy.txt`, a drugi element z party do pliku `drugi.txt`"
   ]
  },
  {
   "cell_type": "code",
   "execution_count": null,
   "id": "a6d2b019",
   "metadata": {},
   "outputs": [],
   "source": [
    "# Tutaj rozwiązanie"
   ]
  },
  {
   "cell_type": "markdown",
   "id": "0a6a3176",
   "metadata": {},
   "source": [
    "# Zadanie 5\n",
    "\n",
    "Napisz skrypt, który odczyta zawartość pliku `pierwszy.txt` i wypisze liczby z niego w kolejności rosnącej."
   ]
  },
  {
   "cell_type": "code",
   "execution_count": null,
   "id": "5fc1c74d",
   "metadata": {},
   "outputs": [],
   "source": [
    "# Tutaj rozwiązanie"
   ]
  },
  {
   "cell_type": "markdown",
   "id": "932bea30",
   "metadata": {},
   "source": [
    "# Zadanie 6\n",
    "\n",
    "Napisz skrypt, który utworzy plik `kurs_euro.txt` w którym w kolejnych wierszach znajdą się liczby zmienna przecinkowe z 2 miejscami po przecinku zakres wartości od 2.00 do 8.00. (Wstam 30 wierszy)\n",
    "\n",
    "## Hint \n",
    "Wylosować liczbe zmienna przecinkową z zakresu można przez funkcje `uniform` z modulu `random`"
   ]
  },
  {
   "cell_type": "code",
   "execution_count": 5,
   "id": "23e321a0",
   "metadata": {},
   "outputs": [],
   "source": [
    "# Tutaj rozwiązanie"
   ]
  },
  {
   "cell_type": "markdown",
   "id": "3fa85793",
   "metadata": {},
   "source": [
    "# Zadanie 7\n",
    "Napisz skrypt, który wyliczy średni kurs euro na podstawie zawartości pliku `kurs_euro.txt` i wyświetli na ekranie."
   ]
  },
  {
   "cell_type": "code",
   "execution_count": null,
   "id": "775aa349",
   "metadata": {},
   "outputs": [],
   "source": [
    "# Tutaj rozwiązanie"
   ]
  },
  {
   "cell_type": "markdown",
   "id": "2d734ef8",
   "metadata": {},
   "source": [
    "# Zadanie 8\n",
    "Napisz skypt, który wyświetli zmiany kursu wiersz po wierszu z pliku `kurs_euro.txt`. np. dla pliku o zawartości\n",
    "```\n",
    "3.12\n",
    "4.02\n",
    "2.11\n",
    "```\n",
    "\n",
    "Wypisze\n",
    "```\n",
    "Aktualny kurs 3.12 - poprzedni kurs BRAK - Zmiana kursu: BRAK\n",
    "Aktualny kurs 4.02 - poprzedni kurs 3.12 - Zmiana kursu: +0.90\n",
    "Aktualny kurs 2.11 - poprzedni kurs 4.02 - Zmiana kursu: -1.91\n",
    "```"
   ]
  },
  {
   "cell_type": "code",
   "execution_count": 6,
   "id": "43a62b62",
   "metadata": {},
   "outputs": [],
   "source": [
    "# Tutaj rozwiązanie"
   ]
  },
  {
   "cell_type": "markdown",
   "id": "9994c570",
   "metadata": {},
   "source": [
    "# Zadanie 9 \n",
    "Napisz skrypt, który pobierze dane z pliku `kurs_euro.txt` a następnie wyświetli największą różnicę kursów (3 sąsiadujacych ze sobą) łączenie z tymi 2 kursami gdzie jest największa różnica.\n",
    "np:\n",
    "```\n",
    "3.12\n",
    "4.02\n",
    "2.11\n",
    "1.10\n",
    "15.01\n",
    "```\n",
    "największa różnica to: 13.91 między 1.10 a 15.01"
   ]
  },
  {
   "cell_type": "code",
   "execution_count": null,
   "id": "0830efca",
   "metadata": {},
   "outputs": [],
   "source": [
    "# Tutaj rozwiązanie"
   ]
  }
 ],
 "metadata": {
  "kernelspec": {
   "display_name": "Python 3",
   "language": "python",
   "name": "python3"
  },
  "language_info": {
   "codemirror_mode": {
    "name": "ipython",
    "version": 3
   },
   "file_extension": ".py",
   "mimetype": "text/x-python",
   "name": "python",
   "nbconvert_exporter": "python",
   "pygments_lexer": "ipython3",
   "version": "3.8.8"
  }
 },
 "nbformat": 4,
 "nbformat_minor": 5
}
